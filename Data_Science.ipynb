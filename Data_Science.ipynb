{
  "nbformat": 4,
  "nbformat_minor": 0,
  "metadata": {
    "colab": {
      "provenance": [],
      "collapsed_sections": [
        "f9iZutOqgEL6",
        "pUADxJpdgNI4",
        "d8N4zRUNgTvq"
      ],
      "authorship_tag": "ABX9TyOGuQP/RKvjfLNWFf6xuGxS",
      "include_colab_link": true
    },
    "kernelspec": {
      "name": "python3",
      "display_name": "Python 3"
    },
    "language_info": {
      "name": "python"
    }
  },
  "cells": [
    {
      "cell_type": "markdown",
      "metadata": {
        "id": "view-in-github",
        "colab_type": "text"
      },
      "source": [
        "<a href=\"https://colab.research.google.com/github/agustin-ollin/python-curse-PY4E/blob/main/Data_Science.ipynb\" target=\"_parent\"><img src=\"https://colab.research.google.com/assets/colab-badge.svg\" alt=\"Open In Colab\"/></a>"
      ]
    },
    {
      "cell_type": "markdown",
      "source": [
        "## **Variables, expressions and statements**"
      ],
      "metadata": {
        "id": "f9iZutOqgEL6"
      }
    },
    {
      "cell_type": "code",
      "execution_count": null,
      "metadata": {
        "colab": {
          "base_uri": "https://localhost:8080/"
        },
        "id": "9sLvN7O6SQs6",
        "outputId": "1f6b7e56-7ca6-4028-9f74-498a3edf89b4"
      },
      "outputs": [
        {
          "output_type": "stream",
          "name": "stdout",
          "text": [
            "Enter your nameSarah\n",
            "Hello Sarah\n"
          ]
        }
      ],
      "source": [
        "\"\"\"\n",
        "2.2 Write a program that uses input to prompt a user for their name and then \n",
        "welcomes them. Note that input will pop up a dialog box. Enter Sarah in the \n",
        "pop-up box when you are prompted so your output will match the desired output.\n",
        "\"\"\"\n",
        "name = input(\"Enter your name\")\n",
        "print(f\"Hello {name}\")"
      ]
    },
    {
      "cell_type": "code",
      "source": [
        "\"\"\"\n",
        "2.3 Write a program to prompt the user for hours and rate per hour using input to \n",
        "compute gross pay. Use 35 hours and a rate of 2.75 per hour to test the program (the pay should be 96.25). \n",
        "You should use input to read a string and float() to convert the string to a number. Do not worry about error checking or bad user data.\n",
        "\"\"\"\n",
        "hrs = int(input(\"Enter Hours:\"))\n",
        "rate_hrs = float(input(\"Enter Rate/Hours:\"))\n",
        "total = hrs * rate_hrs\n",
        "print(f\"Pay: {total}\")"
      ],
      "metadata": {
        "colab": {
          "base_uri": "https://localhost:8080/"
        },
        "id": "aDL75yHETVBU",
        "outputId": "ec9601f1-0568-4178-c2f0-6e536cd113a8"
      },
      "execution_count": null,
      "outputs": [
        {
          "output_type": "stream",
          "name": "stdout",
          "text": [
            "Enter Hours:35\n",
            "Enter Rate/Hours:2.75\n",
            "Pay: 96.25\n"
          ]
        }
      ]
    },
    {
      "cell_type": "markdown",
      "source": [
        "## **Conditional Execution**"
      ],
      "metadata": {
        "id": "pUADxJpdgNI4"
      }
    },
    {
      "cell_type": "code",
      "source": [
        "\"\"\"\n",
        "3.1 Write a program to prompt the user for hours and rate per hour using input to\n",
        " compute gross pay. Pay the hourly rate for the hours up to 40 and 1.5 times the \n",
        " hourly rate for all hours worked above 40 hours. Use 45 hours and a rate of 10.50 \n",
        " per hour to test the program (the pay should be 498.75). You should use input to \n",
        " read a string and float() to convert the string to a number. Do not worry about \n",
        " error checking the user input - assume the user types numbers properly.\n",
        "\"\"\"\n",
        "hrs = input(\"Enter Hours:\")\n",
        "h = float(hrs)\n",
        "\n",
        "rate_hrs = input(\"Enter Rate Hours:\")\n",
        "r = float(rate_hrs)\n",
        "\n",
        "imp = 1.5\n",
        "total = 0\n",
        "\n",
        "if h > 40 :\n",
        "    res = h % 40\n",
        "    h = 40\n",
        "    total = r * (40 + res * imp)\n",
        "else:\n",
        "    total = h * r\n",
        "\n",
        "print(total)"
      ],
      "metadata": {
        "colab": {
          "base_uri": "https://localhost:8080/"
        },
        "id": "ElhfYUKuXuCA",
        "outputId": "17c4c423-1787-41c4-d17b-0fcb7bf45011"
      },
      "execution_count": null,
      "outputs": [
        {
          "output_type": "stream",
          "name": "stdout",
          "text": [
            "Enter Hours:45\n",
            "Enter Rate Hours:10.50\n",
            "498.75\n"
          ]
        }
      ]
    },
    {
      "cell_type": "code",
      "source": [
        "\"\"\"\n",
        "3.3 Write a program to prompt for a score between 0.0 and 1.0. If the score is out \n",
        "of range, print an error. If the score is between 0.0 and 1.0, print a grade using the following table:\n",
        "Score Grade\n",
        ">= 0.9 A\n",
        ">= 0.8 B\n",
        ">= 0.7 C\n",
        ">= 0.6 D\n",
        "< 0.6 F\n",
        "If the user enters a value out of range, print a suitable error message and exit. For the test, enter a score of 0.85.\n",
        "\"\"\"\n",
        "score = input(\"Enter Score: \")\n",
        "sc = float(score)\n",
        "\n",
        "data = {'A':0.9, 'B':0.8, 'C':0.7, 'D':0.6}\n",
        "\n",
        "if sc > 1:\n",
        "    print(\"error\")\n",
        "elif sc < 0.6:\n",
        "        print(\"F\")\n",
        "else:\n",
        "  for key, value in data.items():\n",
        "    if sc >= value:\n",
        "      print(key)\n",
        "      break"
      ],
      "metadata": {
        "colab": {
          "base_uri": "https://localhost:8080/"
        },
        "id": "_9FUbPnwa4MQ",
        "outputId": "59ea6e1b-b6fe-4754-ea93-358de409523d"
      },
      "execution_count": null,
      "outputs": [
        {
          "output_type": "stream",
          "name": "stdout",
          "text": [
            "Enter Score: 0.85\n",
            "B\n"
          ]
        }
      ]
    },
    {
      "cell_type": "code",
      "source": [
        "\"\"\"\n",
        "3.3 Write a program to prompt for a score between 0.0 and 1.0. If the score is out \n",
        "of range, print an error. If the score is between 0.0 and 1.0, print a grade using the following table:\n",
        "Score Grade\n",
        ">= 0.9 A\n",
        ">= 0.8 B\n",
        ">= 0.7 C\n",
        ">= 0.6 D\n",
        "< 0.6 F\n",
        "If the user enters a value out of range, print a suitable error message and exit. For the test, enter a score of 0.85.\n",
        "\"\"\"\n",
        "score = input(\"Enter Score: \")\n",
        "sc = float(score)\n",
        "\n",
        "if sc > 1:\n",
        "    print(\"error in the score\")\n",
        "elif sc >= 0.9:\n",
        "        print(\"A\")\n",
        "elif sc >= 0.8:\n",
        "        print(\"B\")\n",
        "elif sc >= 0.7:\n",
        "        print(\"C\")\n",
        "elif sc >= 0.6:\n",
        "        print(\"D\")\n",
        "else:\n",
        "    print(\"F\")"
      ],
      "metadata": {
        "colab": {
          "base_uri": "https://localhost:8080/"
        },
        "id": "5dKAA2begLtZ",
        "outputId": "a5545567-c444-43bb-b038-71e58cb6e3b6"
      },
      "execution_count": null,
      "outputs": [
        {
          "output_type": "stream",
          "name": "stdout",
          "text": [
            "Enter Score: 0.85\n",
            "B\n"
          ]
        }
      ]
    },
    {
      "cell_type": "markdown",
      "source": [
        "## **Functions**"
      ],
      "metadata": {
        "id": "d8N4zRUNgTvq"
      }
    },
    {
      "cell_type": "code",
      "source": [
        "\"\"\"\n",
        "4.6 Write a program to prompt the user for hours and rate per hour using input to \n",
        "compute gross pay. Pay should be the normal rate for hours up to 40 and time-and-a-half \n",
        "for the hourly rate for all hours worked above 40 hours. Put the logic to do the \n",
        "computation of pay in a function called computepay() and use the function to do the computation. \n",
        "The function should return a value. Use 45 hours and a rate of 10.50 per hour to \n",
        "test the program (the pay should be 498.75). You should use input to read a string \n",
        "and float() to convert the string to a number. Do not worry about error checking \n",
        "the user input unless you want to - you can assume the user types numbers properly. \n",
        "Do not name your variable sum or use the sum() function.\n",
        "\"\"\"\n",
        "def computepay(h, r):\n",
        "    imp = 1.5\n",
        "    total = 0\n",
        "\n",
        "    if h > 40 :\n",
        "        res = h % 40\n",
        "        h = 40\n",
        "        total = r * (40 + res * imp)\n",
        "    else:\n",
        "        total = h * r\n",
        "    return total\n",
        "\n",
        "hrs = input(\"Enter Hours:\")\n",
        "hours = float(hrs)\n",
        "\n",
        "rate_hrs = input(\"Enter Rate Hours:\")\n",
        "rate = float(rate_hrs)\n",
        "\n",
        "p = computepay(hours, rate)\n",
        "print(\"Pay\", p)"
      ],
      "metadata": {
        "colab": {
          "base_uri": "https://localhost:8080/"
        },
        "id": "BuLBzPxliG4P",
        "outputId": "66d4a96f-1b74-472d-d085-1741b443bb0c"
      },
      "execution_count": null,
      "outputs": [
        {
          "output_type": "stream",
          "name": "stdout",
          "text": [
            "Enter Hours:45\n",
            "Enter Rate Hours:10.50\n",
            "Pay 498.75\n"
          ]
        }
      ]
    },
    {
      "cell_type": "markdown",
      "source": [
        "## **Loops and Iterations**"
      ],
      "metadata": {
        "id": "Zq78dNXugYai"
      }
    },
    {
      "cell_type": "code",
      "source": [
        "\"\"\"\n",
        "5.2 Write a program that repeatedly prompts a user for integer numbers until the \n",
        "user enters 'done'. Once 'done' is entered, print out the largest and smallest of \n",
        "the numbers. If the user enters anything other than a valid number catch it with \n",
        "a try/except and put out an appropriate message and ignore the number. \n",
        "Enter 7, 2, bob, 10, and 4 and match the output below.\n",
        "\"\"\"\n",
        "list = []\n",
        "\n",
        "while True:\n",
        "  num = input(\"Enter a number: \")\n",
        "  if num == 'done':\n",
        "    break\n",
        "  try:\n",
        "    temp = int(num)\n",
        "    list.append(temp)\n",
        "  except:\n",
        "    print(\"Invalid input\")\n",
        "\n",
        "print(f\"Maximum is {max(list)}\")\n",
        "print(f\"Minimum is {min(list)}\")  "
      ],
      "metadata": {
        "id": "oarX2vKEkQnm",
        "colab": {
          "base_uri": "https://localhost:8080/"
        },
        "outputId": "e9b8204a-bc53-493a-810c-e718b06cd724"
      },
      "execution_count": 4,
      "outputs": [
        {
          "output_type": "stream",
          "name": "stdout",
          "text": [
            "Enter a number: 7\n",
            "Enter a number: 2\n",
            "Enter a number: bob\n",
            "Invalid input\n",
            "Enter a number: 10\n",
            "Enter a number: 4\n",
            "Enter a number: done\n",
            "Maximum is 10\n",
            "Minimum is 2\n"
          ]
        }
      ]
    },
    {
      "cell_type": "markdown",
      "source": [
        "## **Strings**"
      ],
      "metadata": {
        "id": "twnqtr7E8VCH"
      }
    },
    {
      "cell_type": "code",
      "source": [
        "\"\"\"\n",
        "6.5 Write code using find() and string slicing (see section 6.10) to extract the \n",
        "number at the end of the line below. Convert the extracted value to a floating point \n",
        "number and print it out.\n",
        "\"\"\"\n",
        "text = \"X-DSPAM-Confidence:    0.8475\"\n",
        "atpos = text.find('0')\n",
        "host = float(text[atpos:])\n",
        "print(host)"
      ],
      "metadata": {
        "colab": {
          "base_uri": "https://localhost:8080/"
        },
        "id": "MdH7rrn68Npa",
        "outputId": "12d69144-4d33-4d59-ea43-4429680c7059"
      },
      "execution_count": 15,
      "outputs": [
        {
          "output_type": "stream",
          "name": "stdout",
          "text": [
            "0.8475\n"
          ]
        }
      ]
    },
    {
      "cell_type": "markdown",
      "source": [
        "## **Files**"
      ],
      "metadata": {
        "id": "l-1q_XMK_4dM"
      }
    },
    {
      "cell_type": "code",
      "source": [],
      "metadata": {
        "id": "_7Yc7wOW873f"
      },
      "execution_count": 15,
      "outputs": []
    }
  ]
}